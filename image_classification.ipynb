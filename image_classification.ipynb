{
 "cells": [
  {
   "cell_type": "markdown",
   "metadata": {
    "collapsed": true,
    "deletable": true,
    "editable": true
   },
   "source": [
    "# Image Classification\n",
    "In this project, I'll classify images from the [CIFAR-10 dataset](https://www.cs.toronto.edu/~kriz/cifar.html).  The dataset consists of airplanes, dogs, cats, and other objects. I'll preprocess the images, then train a convolutional neural network on all the samples. The images need to be normalized and the labels need to be one-hot encoded.  I'll build convolutional, max pooling, dropout, and fully connected layers.  At the end, I'll visualize my neural network's predictions on the sample images."
   ]
  },
  {
   "cell_type": "code",
   "execution_count": 2,
   "metadata": {
    "collapsed": false,
    "deletable": true,
    "editable": true
   },
   "outputs": [
    {
     "name": "stderr",
     "output_type": "stream",
     "text": [
      "CIFAR-10 Dataset: 171MB [01:10, 2.42MB/s]                               \n"
     ]
    },
    {
     "name": "stdout",
     "output_type": "stream",
     "text": [
      "All files found!\n"
     ]
    }
   ],
   "source": [
    "#Get the Data\n",
    "#Download the [CIFAR-10 dataset for python](https://www.cs.toronto.edu/~kriz/cifar-10-python.tar.gz).\n",
    "\n",
    "from urllib.request import urlretrieve\n",
    "from os.path import isfile, isdir\n",
    "from tqdm import tqdm\n",
    "import problem_unittests as tests\n",
    "import tarfile\n",
    "\n",
    "cifar10_dataset_folder_path = 'cifar-10-batches-py'\n",
    "\n",
    "# Use Floyd's cifar-10 dataset if present\n",
    "floyd_cifar10_location = 'cifar-10-python.tar.gz'\n",
    "if isfile(floyd_cifar10_location):\n",
    "    tar_gz_path = floyd_cifar10_location\n",
    "else:\n",
    "    tar_gz_path = 'cifar-10-python.tar.gz'\n",
    "\n",
    "class DLProgress(tqdm):\n",
    "    last_block = 0\n",
    "\n",
    "    def hook(self, block_num=1, block_size=1, total_size=None):\n",
    "        self.total = total_size\n",
    "        self.update((block_num - self.last_block) * block_size)\n",
    "        self.last_block = block_num\n",
    "\n",
    "if not isfile(tar_gz_path):\n",
    "    with DLProgress(unit='B', unit_scale=True, miniters=1, desc='CIFAR-10 Dataset') as pbar:\n",
    "        urlretrieve(\n",
    "            'https://www.cs.toronto.edu/~kriz/cifar-10-python.tar.gz',\n",
    "            tar_gz_path,\n",
    "            pbar.hook)\n",
    "\n",
    "if not isdir(cifar10_dataset_folder_path):\n",
    "    with tarfile.open(tar_gz_path) as tar:\n",
    "        tar.extractall()\n",
    "        tar.close()\n",
    "\n",
    "\n",
    "tests.test_folder_path(cifar10_dataset_folder_path)"
   ]
  },
  {
   "cell_type": "markdown",
   "metadata": {
    "deletable": true,
    "editable": true
   },
   "source": [
    "## Explore the Data\n",
    "The dataset is broken into batches to prevent the machine from running out of memory.  The CIFAR-10 dataset consists of 5 batches, named `data_batch_1`, `data_batch_2`, etc.. Each batch contains the labels and images that are one of the following:\n",
    "* airplane\n",
    "* automobile\n",
    "* bird\n",
    "* cat\n",
    "* deer\n",
    "* dog\n",
    "* frog\n",
    "* horse\n",
    "* ship\n",
    "* truck"
   ]
  },
  {
   "cell_type": "code",
   "execution_count": 3,
   "metadata": {
    "collapsed": false,
    "deletable": true,
    "editable": true
   },
   "outputs": [
    {
     "name": "stdout",
     "output_type": "stream",
     "text": [
      "\n",
      "Stats of batch 1:\n",
      "Samples: 10000\n",
      "Label Counts: {0: 1005, 1: 974, 2: 1032, 3: 1016, 4: 999, 5: 937, 6: 1030, 7: 1001, 8: 1025, 9: 981}\n",
      "First 20 Labels: [6, 9, 9, 4, 1, 1, 2, 7, 8, 3, 4, 7, 7, 2, 9, 9, 9, 3, 2, 6]\n",
      "\n",
      "Example of Image 5:\n",
      "Image - Min Value: 0 Max Value: 252\n",
      "Image - Shape: (32, 32, 3)\n",
      "Label - Label Id: 1 Name: automobile\n"
     ]
    },
    {
     "data": {
      "image/png": "[encoded data removed]",
      "text/plain": [
       "<matplotlib.figure.Figure at 0x10901dfd0>"
      ]
     },
     "metadata": {
      "image/png": {
       "height": 250,
       "width": 253
      }
     },
     "output_type": "display_data"
    }
   ],
   "source": [
    "%matplotlib inline\n",
    "%config InlineBackend.figure_format = 'retina'\n",
    "\n",
    "import helper\n",
    "import numpy as np\n",
    "\n",
    "# Explore the dataset\n",
    "batch_id = 1\n",
    "sample_id = 5\n",
    "helper.display_stats(cifar10_dataset_folder_path, batch_id, sample_id)"
   ]
  },
  {
   "cell_type": "markdown",
   "metadata": {
    "deletable": true,
    "editable": true
   },
   "source": [
    "## Implement Preprocess Functions\n",
    "### Normalize\n",
    "In the cell below, I implement the `normalize` function to take in image data, `x`, and return it as a normalized Numpy array. The values should be in the range of 0 to 1, inclusive.  The return object should be the same shape as `x`."
   ]
  },
  {
   "cell_type": "code",
   "execution_count": 4,
   "metadata": {
    "collapsed": false,
    "deletable": true,
    "editable": true
   },
   "outputs": [],
   "source": [
    "import numpy as np\n",
    "def normalize(x):\n",
    "    \"\"\"\n",
    "    Normalize a list of sample image data in the range of 0 to 1\n",
    "    : x: List of image data.  The image shape is (32, 32, 3)\n",
    "    : return: Numpy array of normalize data\n",
    "    \"\"\"\n",
    "    maxvalue = float(np.max(x))\n",
    "    minvalue = float(np.min(x))   \n",
    "    \n",
    "    return (x-minvalue)/(maxvalue-minvalue)"
   ]
  },
  {
   "cell_type": "markdown",
   "metadata": {
    "deletable": true,
    "editable": true
   },
   "source": [
    "### One-hot encode\n",
    "I implement the `one_hot_encode` function. The input, `x`, are a list of labels.  Implement the function to return the list of labels as One-Hot encoded Numpy array.  The possible values for labels are 0 to 9. The one-hot encoding function should return the same encoding for each value between each call to `one_hot_encode`.  Make sure to save the map of encodings outside the function."
   ]
  },
  {
   "cell_type": "code",
   "execution_count": 5,
   "metadata": {
    "collapsed": false,
    "deletable": true,
    "editable": true
   },
   "outputs": [],
   "source": [
    "def one_hot_encode(x):\n",
    "    \"\"\"\n",
    "    One hot encode a list of sample labels. Return a one-hot encoded vector for each label.\n",
    "    : x: List of sample Labels\n",
    "    : return: Numpy array of one-hot encoded labels\n",
    "    \"\"\"\n",
    "    res = np.eye(10)[x]\n",
    "    return res"
   ]
  },
  {
   "cell_type": "markdown",
   "metadata": {
    "deletable": true,
    "editable": true
   },
   "source": [
    "## Preprocess all the data and save it\n",
    "Running the code cell below will preprocess all the CIFAR-10 data and save it to file. The code below also uses 10% of the training data for validation."
   ]
  },
  {
   "cell_type": "code",
   "execution_count": 6,
   "metadata": {
    "collapsed": false,
    "deletable": true,
    "editable": true
   },
   "outputs": [],
   "source": [
    "# Preprocess Training, Validation, and Testing Data\n",
    "helper.preprocess_and_save_data(cifar10_dataset_folder_path, normalize, one_hot_encode)"
   ]
  },
  {
   "cell_type": "markdown",
   "metadata": {
    "deletable": true,
    "editable": true
   },
   "source": [
    "# Check Point\n",
    "This is the first checkpoint.  If you ever decide to come back to this notebook or have to restart the notebook, you can start from here.  The preprocessed data has been saved to disk."
   ]
  },
  {
   "cell_type": "code",
   "execution_count": 7,
   "metadata": {
    "collapsed": true,
    "deletable": true,
    "editable": true
   },
   "outputs": [],
   "source": [
    "import pickle\n",
    "import helper\n",
    "import numpy as np\n",
    "\n",
    "# Load the Preprocessed Validation data\n",
    "valid_features, valid_labels = pickle.load(open('preprocess_validation.p', mode='rb'))"
   ]
  },
  {
   "cell_type": "markdown",
   "metadata": {
    "deletable": true,
    "editable": true
   },
   "source": [
    "## Build the network\n",
    "For the neural network, I'll build each layer into a function."
   ]
  },
  {
   "cell_type": "markdown",
   "metadata": {},
   "source": [
    "### Inputs"
   ]
  },
  {
   "cell_type": "code",
   "execution_count": 8,
   "metadata": {
    "collapsed": false,
    "deletable": true,
    "editable": true
   },
   "outputs": [],
   "source": [
    "import tensorflow as tf\n",
    "\n",
    "def neural_net_image_input(image_shape):\n",
    "    \"\"\"\n",
    "    Return a Tensor for a batch of image input\n",
    "    : image_shape: Shape of the images\n",
    "    : return: Tensor for image input.\n",
    "    \"\"\"\n",
    "    a,b,c = image_shape\n",
    "    return tf.placeholder(tf.float32,\n",
    "                         shape = [None,a,b,c],\n",
    "                         name = 'x')\n",
    "\n",
    "\n",
    "def neural_net_label_input(n_classes):\n",
    "    \"\"\"\n",
    "    Return a Tensor for a batch of label input\n",
    "    : n_classes: Number of classes\n",
    "    : return: Tensor for label input.\n",
    "    \"\"\"\n",
    "    return tf.placeholder(tf.float32,\n",
    "                         shape=[None,n_classes],\n",
    "                         name = 'y')\n",
    "\n",
    "\n",
    "def neural_net_keep_prob_input():\n",
    "    \"\"\"\n",
    "    Return a Tensor for keep probability\n",
    "    : return: Tensor for keep probability.\n",
    "    \"\"\"\n",
    "    return tf.placeholder(tf.float32,\n",
    "                         name = 'keep_prob')\n",
    "\n",
    "\n",
    "tf.reset_default_graph()"
   ]
  },
  {
   "cell_type": "markdown",
   "metadata": {
    "deletable": true,
    "editable": true
   },
   "source": [
    "### Convolution and Max Pooling Layer"
   ]
  },
  {
   "cell_type": "code",
   "execution_count": 9,
   "metadata": {
    "collapsed": false,
    "deletable": true,
    "editable": true
   },
   "outputs": [],
   "source": [
    "def conv2d_maxpool(x_tensor, conv_num_outputs, conv_ksize, conv_strides, pool_ksize, pool_strides):\n",
    "    \"\"\"\n",
    "    Apply convolution then max pooling to x_tensor\n",
    "    :param x_tensor: TensorFlow Tensor\n",
    "    :param conv_num_outputs: Number of outputs for the convolutional layer\n",
    "    :param conv_ksize: kernal size 2-D Tuple for the convolutional layer\n",
    "    :param conv_strides: Stride 2-D Tuple for convolution\n",
    "    :param pool_ksize: kernal size 2-D Tuple for pool\n",
    "    :param pool_strides: Stride 2-D Tuple for pool\n",
    "    : return: A tensor that represents convolution and max pooling of x_tensor\n",
    "    \"\"\"\n",
    "    \n",
    "    k1,k2 = conv_ksize\n",
    "    h = x_tensor.shape[-1]\n",
    "    shape = np.array([k1,k2,h,conv_num_outputs])\n",
    "    shape = shape.astype(np.int32)\n",
    "    # Need to note the spetial request of tf.truncated_normal\n",
    "    conv_weights = tf.Variable(tf.truncated_normal(shape, dtype=tf.float32, stddev=0.1))\n",
    "    conv_bias = tf.Variable(tf.zeros([conv_num_outputs], dtype=tf.float32))\n",
    "    \n",
    "    s1,s2 = conv_strides\n",
    "    conv = tf.nn.conv2d(x_tensor, conv_weights, strides=[1,s1,s2,1], padding='SAME')\n",
    "    conv = tf.nn.bias_add(conv, conv_bias)\n",
    "    \n",
    "    ksize = [1,pool_ksize[0],pool_ksize[1],1]\n",
    "    strides = [1,pool_strides[0],pool_strides[1],1]\n",
    "    max_pool = tf.nn.max_pool(conv, ksize=ksize, strides=strides, padding='SAME')\n",
    "    \n",
    "    res = tf.nn.relu(max_pool)\n",
    "    return (res)"
   ]
  },
  {
   "cell_type": "markdown",
   "metadata": {
    "deletable": true,
    "editable": true
   },
   "source": [
    "### Flatten Layer"
   ]
  },
  {
   "cell_type": "code",
   "execution_count": 10,
   "metadata": {
    "collapsed": false,
    "deletable": true,
    "editable": true
   },
   "outputs": [],
   "source": [
    "def flatten(x_tensor):\n",
    "    \"\"\"\n",
    "    Flatten x_tensor to (Batch Size, Flattened Image Size)\n",
    "    : x_tensor: A tensor of size (Batch Size, ...), where ... are the image dimensions.\n",
    "    : return: A tensor of size (Batch Size, Flattened Image Size).\n",
    "    \"\"\"\n",
    "    dim = np.prod(x_tensor.shape[1:])\n",
    "    shape = np.array([-1,dim])\n",
    "    return tf.reshape(x_tensor, shape)\n"
   ]
  },
  {
   "cell_type": "markdown",
   "metadata": {
    "deletable": true,
    "editable": true
   },
   "source": [
    "### Fully-Connected Layer"
   ]
  },
  {
   "cell_type": "code",
   "execution_count": 11,
   "metadata": {
    "collapsed": false,
    "deletable": true,
    "editable": true
   },
   "outputs": [],
   "source": [
    "def fully_conn(x_tensor, num_outputs):\n",
    "    \"\"\"\n",
    "    Apply a fully connected layer to x_tensor using weight and bias\n",
    "    : x_tensor: A 2-D tensor where the first dimension is batch size.\n",
    "    : num_outputs: The number of output that the new tensor should be.\n",
    "    : return: A 2-D tensor where the second dimension is num_outputs.\n",
    "    \"\"\"\n",
    "    # TODO: Implement Function\n",
    "    i = x_tensor.shape[-1]\n",
    "    shape = np.array([i,num_outputs])\n",
    "    shape = shape.astype(np.int32)\n",
    "    standard_deviation = float(1)/np.sqrt(num_outputs)\n",
    "    weights = tf.Variable(tf.truncated_normal(shape, dtype=tf.float32, stddev=standard_deviation))\n",
    "    bias = tf.Variable(tf.truncated_normal([num_outputs], dtype=tf.float32))\n",
    "    \n",
    "    logistic = tf.add(tf.matmul(x_tensor, weights), bias)\n",
    "    \n",
    "    logistic = tf.nn.relu(logistic)\n",
    "    return logistic"
   ]
  },
  {
   "cell_type": "markdown",
   "metadata": {
    "deletable": true,
    "editable": true
   },
   "source": [
    "### Output Layer\n",
    "**Note:** Activation, softmax, or cross entropy do **not** be applied to this."
   ]
  },
  {
   "cell_type": "code",
   "execution_count": 12,
   "metadata": {
    "collapsed": false,
    "deletable": true,
    "editable": true
   },
   "outputs": [],
   "source": [
    "def output(x_tensor, num_outputs):\n",
    "    \"\"\"\n",
    "    Apply a output layer to x_tensor using weight and bias\n",
    "    : x_tensor: A 2-D tensor where the first dimension is batch size.\n",
    "    : num_outputs: The number of output that the new tensor should be.\n",
    "    : return: A 2-D tensor where the second dimension is num_outputs.\n",
    "    \"\"\"\n",
    "    i = x_tensor.shape[-1]\n",
    "    shape = np.array([i,num_outputs])\n",
    "    shape = shape.astype(np.int32)\n",
    "    weights = tf.Variable(tf.truncated_normal(shape, dtype=tf.float32))\n",
    "    bias = tf.Variable(tf.truncated_normal([num_outputs], dtype=tf.float32))\n",
    "    \n",
    "    logistic = tf.add(tf.matmul(x_tensor, weights), bias)\n",
    "    return logistic"
   ]
  },
  {
   "cell_type": "markdown",
   "metadata": {
    "deletable": true,
    "editable": true
   },
   "source": [
    "### Create Convolutional Model\n",
    "Implement the function `conv_net` to create a convolutional neural network model. The function takes in a batch of images, `x`, and outputs logits."
   ]
  },
  {
   "cell_type": "code",
   "execution_count": 13,
   "metadata": {
    "collapsed": false,
    "deletable": true,
    "editable": true
   },
   "outputs": [],
   "source": [
    "def conv_net(x, keep_prob):\n",
    "    \"\"\"\n",
    "    Create a convolutional neural network model\n",
    "    : x: Placeholder tensor that holds image data.\n",
    "    : keep_prob: Placeholder tensor that hold dropout keep probability.\n",
    "    : return: Tensor that represents logits\n",
    "    \"\"\"\n",
    "    \n",
    "    x = conv2d_maxpool(x, 32, (3,3), (2,2), (2,2), (1,1))\n",
    "    x = conv2d_maxpool(x, 64, (3,3), (2,2), (2,2), (1,1))\n",
    "    x = conv2d_maxpool(x, 128, (3,3), (2,2), (2,2), (1,1))\n",
    "    \n",
    "    x = flatten(x)\n",
    "    \n",
    "    x = fully_conn(x, 256)\n",
    "    x = fully_conn(x, 128)\n",
    "    x = fully_conn(x, 64)\n",
    "    x = tf.nn.dropout(x, keep_prob)\n",
    "\n",
    "    x = output(x, 10)\n",
    "    \n",
    "    return x\n",
    "\n",
    "\n",
    "# Remove previous weights, bias, inputs, etc..\n",
    "tf.reset_default_graph()\n",
    "\n",
    "# Inputs\n",
    "x = neural_net_image_input((32, 32, 3))\n",
    "y = neural_net_label_input(10)\n",
    "keep_prob = neural_net_keep_prob_input()\n",
    "\n",
    "# Model\n",
    "logits = conv_net(x, keep_prob)\n",
    "\n",
    "# Name logits Tensor, so that is can be loaded from disk after training\n",
    "logits = tf.identity(logits, name='logits')\n",
    "\n",
    "# Loss and Optimizer\n",
    "cost = tf.reduce_mean(tf.nn.softmax_cross_entropy_with_logits(logits=logits, labels=y))\n",
    "optimizer = tf.train.AdamOptimizer().minimize(cost)\n",
    "\n",
    "# Accuracy\n",
    "correct_pred = tf.equal(tf.argmax(logits, 1), tf.argmax(y, 1))\n",
    "accuracy = tf.reduce_mean(tf.cast(correct_pred, tf.float32), name='accuracy')"
   ]
  },
  {
   "cell_type": "markdown",
   "metadata": {
    "deletable": true,
    "editable": true
   },
   "source": [
    "## Train the Neural Network\n",
    "\n",
    "### Single Optimization\n",
    "Note: Nothing needs to be returned. This function is only optimizing the neural network."
   ]
  },
  {
   "cell_type": "code",
   "execution_count": 14,
   "metadata": {
    "collapsed": false,
    "deletable": true,
    "editable": true
   },
   "outputs": [],
   "source": [
    "def train_neural_network(session, optimizer, keep_probability, feature_batch, label_batch):\n",
    "    \"\"\"\n",
    "    Optimize the session on a batch of images and labels\n",
    "    : session: Current TensorFlow session\n",
    "    : optimizer: TensorFlow optimizer function\n",
    "    : keep_probability: keep probability\n",
    "    : feature_batch: Batch of Numpy image data\n",
    "    : label_batch: Batch of Numpy label data\n",
    "    \"\"\"\n",
    "    session.run(optimizer,\n",
    "               feed_dict = {x:feature_batch, y:label_batch, \n",
    "                            keep_prob:keep_probability})"
   ]
  },
  {
   "cell_type": "markdown",
   "metadata": {
    "deletable": true,
    "editable": true
   },
   "source": [
    "### Show Stats"
   ]
  },
  {
   "cell_type": "code",
   "execution_count": 15,
   "metadata": {
    "collapsed": false,
    "deletable": true,
    "editable": true
   },
   "outputs": [],
   "source": [
    "def print_stats(session, feature_batch, label_batch, cost, accuracy):\n",
    "    \"\"\"\n",
    "    Print information about loss and validation accuracy\n",
    "    : session: Current TensorFlow session\n",
    "    : feature_batch: Batch of Numpy image data\n",
    "    : label_batch: Batch of Numpy label data\n",
    "    : cost: TensorFlow cost function\n",
    "    : accuracy: TensorFlow accuracy function\n",
    "    \"\"\"\n",
    "    loss = session.run(cost, \n",
    "                       feed_dict={x:feature_batch, y:label_batch,\n",
    "                                 keep_prob:1.0})\n",
    "    valid_accu = session.run(accuracy,\n",
    "                      feed_dict={x:valid_features, y:valid_labels,\n",
    "                                 keep_prob:1.0})\n",
    "    print ('Loss: {:>10.4f} Validation Accuracy: {:.6f}'.format(loss,valid_accu))\n"
   ]
  },
  {
   "cell_type": "markdown",
   "metadata": {
    "deletable": true,
    "editable": true
   },
   "source": [
    "### Hyperparameters"
   ]
  },
  {
   "cell_type": "code",
   "execution_count": 16,
   "metadata": {
    "collapsed": true,
    "deletable": true,
    "editable": true
   },
   "outputs": [],
   "source": [
    "# TODO: Tune Parameters\n",
    "epochs = 20\n",
    "batch_size = 128\n",
    "keep_probability = 0.5"
   ]
  },
  {
   "cell_type": "markdown",
   "metadata": {
    "deletable": true,
    "editable": true
   },
   "source": [
    "### Train on a Single CIFAR-10 Batch\n",
    "Instead of training the neural network on all the CIFAR-10 batches of data, let's use a single batch. This should save time while you iterate on the model to get a better accuracy.  Once the final validation accuracy is 50% or greater, run the model on all the data in the next section."
   ]
  },
  {
   "cell_type": "code",
   "execution_count": 17,
   "metadata": {
    "collapsed": false,
    "deletable": true,
    "editable": true
   },
   "outputs": [
    {
     "name": "stdout",
     "output_type": "stream",
     "text": [
      "Checking the Training on a Single Batch...\n",
      "Epoch  1, CIFAR-10 Batch 1:  Loss:     2.1803 Validation Accuracy: 0.142600\n",
      "Epoch  2, CIFAR-10 Batch 1:  Loss:     2.0918 Validation Accuracy: 0.183000\n",
      "Epoch  3, CIFAR-10 Batch 1:  Loss:     1.9589 Validation Accuracy: 0.249200\n",
      "Epoch  4, CIFAR-10 Batch 1:  Loss:     1.9092 Validation Accuracy: 0.295000\n",
      "Epoch  5, CIFAR-10 Batch 1:  Loss:     1.9289 Validation Accuracy: 0.248400\n",
      "Epoch  6, CIFAR-10 Batch 1:  Loss:     1.8118 Validation Accuracy: 0.345800\n",
      "Epoch  7, CIFAR-10 Batch 1:  Loss:     1.7397 Validation Accuracy: 0.377200\n",
      "Epoch  8, CIFAR-10 Batch 1:  Loss:     1.6303 Validation Accuracy: 0.373200\n",
      "Epoch  9, CIFAR-10 Batch 1:  Loss:     1.6087 Validation Accuracy: 0.403000\n",
      "Epoch 10, CIFAR-10 Batch 1:  Loss:     1.4515 Validation Accuracy: 0.399200\n",
      "Epoch 11, CIFAR-10 Batch 1:  Loss:     1.3922 Validation Accuracy: 0.430800\n",
      "Epoch 12, CIFAR-10 Batch 1:  Loss:     1.3408 Validation Accuracy: 0.431400\n",
      "Epoch 13, CIFAR-10 Batch 1:  Loss:     1.2000 Validation Accuracy: 0.424200\n",
      "Epoch 14, CIFAR-10 Batch 1:  Loss:     1.0842 Validation Accuracy: 0.482400\n",
      "Epoch 15, CIFAR-10 Batch 1:  Loss:     0.9968 Validation Accuracy: 0.471000\n",
      "Epoch 16, CIFAR-10 Batch 1:  Loss:     0.8794 Validation Accuracy: 0.490400\n",
      "Epoch 17, CIFAR-10 Batch 1:  Loss:     0.8556 Validation Accuracy: 0.503600\n",
      "Epoch 18, CIFAR-10 Batch 1:  Loss:     0.7550 Validation Accuracy: 0.513600\n",
      "Epoch 19, CIFAR-10 Batch 1:  Loss:     0.7171 Validation Accuracy: 0.515000\n",
      "Epoch 20, CIFAR-10 Batch 1:  Loss:     0.6600 Validation Accuracy: 0.500600\n"
     ]
    }
   ],
   "source": [
    "print('Checking the Training on a Single Batch...')\n",
    "with tf.Session() as sess:\n",
    "    # Initializing the variables\n",
    "    sess.run(tf.global_variables_initializer())\n",
    "    \n",
    "    # Training cycle\n",
    "    for epoch in range(epochs):\n",
    "        batch_i = 1\n",
    "        for batch_features, batch_labels in helper.load_preprocess_training_batch(batch_i, batch_size):\n",
    "            train_neural_network(sess, optimizer, keep_probability, batch_features, batch_labels)\n",
    "        print('Epoch {:>2}, CIFAR-10 Batch {}:  '.format(epoch + 1, batch_i), end='')\n",
    "        print_stats(sess, batch_features, batch_labels, cost, accuracy)"
   ]
  },
  {
   "cell_type": "markdown",
   "metadata": {
    "deletable": true,
    "editable": true
   },
   "source": [
    "### Fully Train the Model\n",
    "Now that you got a good accuracy with a single CIFAR-10 batch, try it with all five batches."
   ]
  },
  {
   "cell_type": "code",
   "execution_count": 37,
   "metadata": {
    "collapsed": false,
    "deletable": true,
    "editable": true
   },
   "outputs": [
    {
     "name": "stdout",
     "output_type": "stream",
     "text": [
      "Training...\n",
      "Epoch  1, CIFAR-10 Batch 1:  Loss:     2.3326 Validation Accuracy: 0.143800\n",
      "Epoch  1, CIFAR-10 Batch 2:  Loss:     2.3246 Validation Accuracy: 0.218400\n",
      "Epoch  1, CIFAR-10 Batch 3:  Loss:     2.1843 Validation Accuracy: 0.233400\n",
      "Epoch  1, CIFAR-10 Batch 4:  Loss:     2.2749 Validation Accuracy: 0.240600\n",
      "Epoch  1, CIFAR-10 Batch 5:  Loss:     1.9969 Validation Accuracy: 0.277000\n",
      "Epoch  2, CIFAR-10 Batch 1:  Loss:     1.8871 Validation Accuracy: 0.311600\n",
      "Epoch  2, CIFAR-10 Batch 2:  Loss:     1.8815 Validation Accuracy: 0.379800\n",
      "Epoch  2, CIFAR-10 Batch 3:  Loss:     1.5351 Validation Accuracy: 0.391400\n",
      "Epoch  2, CIFAR-10 Batch 4:  Loss:     1.6710 Validation Accuracy: 0.420400\n",
      "Epoch  2, CIFAR-10 Batch 5:  Loss:     1.6176 Validation Accuracy: 0.446400\n",
      "Epoch  3, CIFAR-10 Batch 1:  Loss:     1.5834 Validation Accuracy: 0.449400\n",
      "Epoch  3, CIFAR-10 Batch 2:  Loss:     1.5831 Validation Accuracy: 0.461000\n",
      "Epoch  3, CIFAR-10 Batch 3:  Loss:     1.1179 Validation Accuracy: 0.486000\n",
      "Epoch  3, CIFAR-10 Batch 4:  Loss:     1.5393 Validation Accuracy: 0.500200\n",
      "Epoch  3, CIFAR-10 Batch 5:  Loss:     1.4993 Validation Accuracy: 0.494400\n",
      "Epoch  4, CIFAR-10 Batch 1:  Loss:     1.2823 Validation Accuracy: 0.501600\n",
      "Epoch  4, CIFAR-10 Batch 2:  Loss:     1.2905 Validation Accuracy: 0.516600\n",
      "Epoch  4, CIFAR-10 Batch 3:  Loss:     1.1908 Validation Accuracy: 0.502400\n",
      "Epoch  4, CIFAR-10 Batch 4:  Loss:     1.3178 Validation Accuracy: 0.540400\n",
      "Epoch  4, CIFAR-10 Batch 5:  Loss:     1.1948 Validation Accuracy: 0.543800\n",
      "Epoch  5, CIFAR-10 Batch 1:  Loss:     1.2436 Validation Accuracy: 0.540400\n",
      "Epoch  5, CIFAR-10 Batch 2:  Loss:     1.1344 Validation Accuracy: 0.550600\n",
      "Epoch  5, CIFAR-10 Batch 3:  Loss:     0.9671 Validation Accuracy: 0.560200\n",
      "Epoch  5, CIFAR-10 Batch 4:  Loss:     1.2154 Validation Accuracy: 0.569600\n",
      "Epoch  5, CIFAR-10 Batch 5:  Loss:     1.0498 Validation Accuracy: 0.568400\n",
      "Epoch  6, CIFAR-10 Batch 1:  Loss:     1.1656 Validation Accuracy: 0.555400\n",
      "Epoch  6, CIFAR-10 Batch 2:  Loss:     1.0519 Validation Accuracy: 0.580400\n",
      "Epoch  6, CIFAR-10 Batch 3:  Loss:     0.8542 Validation Accuracy: 0.592200\n",
      "Epoch  6, CIFAR-10 Batch 4:  Loss:     1.1608 Validation Accuracy: 0.578400\n",
      "Epoch  6, CIFAR-10 Batch 5:  Loss:     0.8989 Validation Accuracy: 0.579400\n",
      "Epoch  7, CIFAR-10 Batch 1:  Loss:     0.9805 Validation Accuracy: 0.587400\n",
      "Epoch  7, CIFAR-10 Batch 2:  Loss:     0.9206 Validation Accuracy: 0.576200\n",
      "Epoch  7, CIFAR-10 Batch 3:  Loss:     0.7303 Validation Accuracy: 0.598800\n",
      "Epoch  7, CIFAR-10 Batch 4:  Loss:     1.0076 Validation Accuracy: 0.602000\n",
      "Epoch  7, CIFAR-10 Batch 5:  Loss:     0.8543 Validation Accuracy: 0.588600\n",
      "Epoch  8, CIFAR-10 Batch 1:  Loss:     0.9327 Validation Accuracy: 0.605600\n",
      "Epoch  8, CIFAR-10 Batch 2:  Loss:     0.7837 Validation Accuracy: 0.602800\n",
      "Epoch  8, CIFAR-10 Batch 3:  Loss:     0.6729 Validation Accuracy: 0.590200\n",
      "Epoch  8, CIFAR-10 Batch 4:  Loss:     0.8013 Validation Accuracy: 0.630200\n",
      "Epoch  8, CIFAR-10 Batch 5:  Loss:     0.6795 Validation Accuracy: 0.624000\n",
      "Epoch  9, CIFAR-10 Batch 1:  Loss:     0.8640 Validation Accuracy: 0.624600\n",
      "Epoch  9, CIFAR-10 Batch 2:  Loss:     0.7075 Validation Accuracy: 0.609000\n",
      "Epoch  9, CIFAR-10 Batch 3:  Loss:     0.5232 Validation Accuracy: 0.622600\n",
      "Epoch  9, CIFAR-10 Batch 4:  Loss:     0.6761 Validation Accuracy: 0.630600\n",
      "Epoch  9, CIFAR-10 Batch 5:  Loss:     0.5506 Validation Accuracy: 0.622800\n",
      "Epoch 10, CIFAR-10 Batch 1:  Loss:     0.7104 Validation Accuracy: 0.632000\n",
      "Epoch 10, CIFAR-10 Batch 2:  Loss:     0.6519 Validation Accuracy: 0.608000\n",
      "Epoch 10, CIFAR-10 Batch 3:  Loss:     0.3881 Validation Accuracy: 0.638600\n",
      "Epoch 10, CIFAR-10 Batch 4:  Loss:     0.5533 Validation Accuracy: 0.640200\n",
      "Epoch 10, CIFAR-10 Batch 5:  Loss:     0.5383 Validation Accuracy: 0.607200\n",
      "Epoch 11, CIFAR-10 Batch 1:  Loss:     0.6388 Validation Accuracy: 0.631200\n",
      "Epoch 11, CIFAR-10 Batch 2:  Loss:     0.5709 Validation Accuracy: 0.636400\n",
      "Epoch 11, CIFAR-10 Batch 3:  Loss:     0.3170 Validation Accuracy: 0.648200\n",
      "Epoch 11, CIFAR-10 Batch 4:  Loss:     0.4580 Validation Accuracy: 0.642800\n",
      "Epoch 11, CIFAR-10 Batch 5:  Loss:     0.4285 Validation Accuracy: 0.645600\n",
      "Epoch 12, CIFAR-10 Batch 1:  Loss:     0.6528 Validation Accuracy: 0.645000\n",
      "Epoch 12, CIFAR-10 Batch 2:  Loss:     0.5012 Validation Accuracy: 0.629400\n",
      "Epoch 12, CIFAR-10 Batch 3:  Loss:     0.2944 Validation Accuracy: 0.633400\n",
      "Epoch 12, CIFAR-10 Batch 4:  Loss:     0.3959 Validation Accuracy: 0.642000\n",
      "Epoch 12, CIFAR-10 Batch 5:  Loss:     0.3406 Validation Accuracy: 0.652200\n",
      "Epoch 13, CIFAR-10 Batch 1:  Loss:     0.5176 Validation Accuracy: 0.662800\n",
      "Epoch 13, CIFAR-10 Batch 2:  Loss:     0.4177 Validation Accuracy: 0.655000\n",
      "Epoch 13, CIFAR-10 Batch 3:  Loss:     0.2838 Validation Accuracy: 0.660600\n",
      "Epoch 13, CIFAR-10 Batch 4:  Loss:     0.3247 Validation Accuracy: 0.661800\n",
      "Epoch 13, CIFAR-10 Batch 5:  Loss:     0.2937 Validation Accuracy: 0.653400\n",
      "Epoch 14, CIFAR-10 Batch 1:  Loss:     0.4166 Validation Accuracy: 0.658400\n",
      "Epoch 14, CIFAR-10 Batch 2:  Loss:     0.3562 Validation Accuracy: 0.655800\n",
      "Epoch 14, CIFAR-10 Batch 3:  Loss:     0.2170 Validation Accuracy: 0.657400\n",
      "Epoch 14, CIFAR-10 Batch 4:  Loss:     0.2831 Validation Accuracy: 0.666600\n",
      "Epoch 14, CIFAR-10 Batch 5:  Loss:     0.2502 Validation Accuracy: 0.647200\n",
      "Epoch 15, CIFAR-10 Batch 1:  Loss:     0.3982 Validation Accuracy: 0.665200\n",
      "Epoch 15, CIFAR-10 Batch 2:  Loss:     0.3174 Validation Accuracy: 0.647800\n",
      "Epoch 15, CIFAR-10 Batch 3:  Loss:     0.2541 Validation Accuracy: 0.645800\n",
      "Epoch 15, CIFAR-10 Batch 4:  Loss:     0.2472 Validation Accuracy: 0.669000\n",
      "Epoch 15, CIFAR-10 Batch 5:  Loss:     0.2614 Validation Accuracy: 0.666200\n",
      "Epoch 16, CIFAR-10 Batch 1:  Loss:     0.3979 Validation Accuracy: 0.654200\n",
      "Epoch 16, CIFAR-10 Batch 2:  Loss:     0.2586 Validation Accuracy: 0.652600\n",
      "Epoch 16, CIFAR-10 Batch 3:  Loss:     0.1820 Validation Accuracy: 0.667600\n",
      "Epoch 16, CIFAR-10 Batch 4:  Loss:     0.2979 Validation Accuracy: 0.656800\n",
      "Epoch 16, CIFAR-10 Batch 5:  Loss:     0.2149 Validation Accuracy: 0.659200\n",
      "Epoch 17, CIFAR-10 Batch 1:  Loss:     0.2875 Validation Accuracy: 0.659600\n",
      "Epoch 17, CIFAR-10 Batch 2:  Loss:     0.2525 Validation Accuracy: 0.666400\n",
      "Epoch 17, CIFAR-10 Batch 3:  Loss:     0.1931 Validation Accuracy: 0.659200\n",
      "Epoch 17, CIFAR-10 Batch 4:  Loss:     0.2491 Validation Accuracy: 0.663200\n",
      "Epoch 17, CIFAR-10 Batch 5:  Loss:     0.1466 Validation Accuracy: 0.669800\n",
      "Epoch 18, CIFAR-10 Batch 1:  Loss:     0.3138 Validation Accuracy: 0.656600\n",
      "Epoch 18, CIFAR-10 Batch 2:  Loss:     0.2054 Validation Accuracy: 0.660600\n",
      "Epoch 18, CIFAR-10 Batch 3:  Loss:     0.1304 Validation Accuracy: 0.660200\n",
      "Epoch 18, CIFAR-10 Batch 4:  Loss:     0.2147 Validation Accuracy: 0.657400\n",
      "Epoch 18, CIFAR-10 Batch 5:  Loss:     0.2158 Validation Accuracy: 0.643800\n",
      "Epoch 19, CIFAR-10 Batch 1:  Loss:     0.3849 Validation Accuracy: 0.618600\n",
      "Epoch 19, CIFAR-10 Batch 2:  Loss:     0.1506 Validation Accuracy: 0.674600\n",
      "Epoch 19, CIFAR-10 Batch 3:  Loss:     0.0882 Validation Accuracy: 0.654600\n",
      "Epoch 19, CIFAR-10 Batch 4:  Loss:     0.1856 Validation Accuracy: 0.660200\n",
      "Epoch 19, CIFAR-10 Batch 5:  Loss:     0.1681 Validation Accuracy: 0.636800\n",
      "Epoch 20, CIFAR-10 Batch 1:  Loss:     0.3091 Validation Accuracy: 0.639200\n",
      "Epoch 20, CIFAR-10 Batch 2:  Loss:     0.1505 Validation Accuracy: 0.657400\n",
      "Epoch 20, CIFAR-10 Batch 3:  Loss:     0.0834 Validation Accuracy: 0.672400\n",
      "Epoch 20, CIFAR-10 Batch 4:  Loss:     0.2407 Validation Accuracy: 0.652200\n",
      "Epoch 20, CIFAR-10 Batch 5:  Loss:     0.1496 Validation Accuracy: 0.644000\n"
     ]
    }
   ],
   "source": [
    "save_model_path = './image_classification'\n",
    "\n",
    "print('Training...')\n",
    "with tf.Session() as sess:\n",
    "    # Initializing the variables\n",
    "    sess.run(tf.global_variables_initializer())\n",
    "    \n",
    "    # Training cycle\n",
    "    for epoch in range(epochs):\n",
    "        # Loop over all batches\n",
    "        n_batches = 5\n",
    "        for batch_i in range(1, n_batches + 1):\n",
    "            for batch_features, batch_labels in helper.load_preprocess_training_batch(batch_i, batch_size):\n",
    "                train_neural_network(sess, optimizer, keep_probability, batch_features, batch_labels)\n",
    "            print('Epoch {:>2}, CIFAR-10 Batch {}:  '.format(epoch + 1, batch_i), end='')\n",
    "            print_stats(sess, batch_features, batch_labels, cost, accuracy)\n",
    "            \n",
    "    # Save Model\n",
    "    saver = tf.train.Saver()\n",
    "    save_path = saver.save(sess, save_model_path)"
   ]
  },
  {
   "cell_type": "markdown",
   "metadata": {
    "deletable": true,
    "editable": true
   },
   "source": [
    "# Checkpoint\n",
    "The model has been saved to disk.\n",
    "## Test Model\n",
    "Test your model against the test dataset.  This will be your final accuracy. You should have an accuracy greater than 50%. If you don't, keep tweaking the model architecture and parameters."
   ]
  },
  {
   "cell_type": "code",
   "execution_count": 39,
   "metadata": {
    "collapsed": false,
    "deletable": true,
    "editable": true
   },
   "outputs": [
    {
     "name": "stdout",
     "output_type": "stream",
     "text": [
      "Testing Accuracy: 0.6509098101265823\n",
      "\n"
     ]
    },
    {
     "data": {
      "image/png": "[encoded data removed]",
      "text/plain": [
       "<matplotlib.figure.Figure at 0x7fd16973dfd0>"
      ]
     },
     "metadata": {
      "image/png": {
       "height": 319,
       "width": 355
      }
     },
     "output_type": "display_data"
    }
   ],
   "source": [
    "%matplotlib inline\n",
    "%config InlineBackend.figure_format = 'retina'\n",
    "\n",
    "import tensorflow as tf\n",
    "import pickle\n",
    "import helper\n",
    "import random\n",
    "\n",
    "# Set batch size if not already set\n",
    "try:\n",
    "    if batch_size:\n",
    "        pass\n",
    "except NameError:\n",
    "    batch_size = 64\n",
    "\n",
    "save_model_path = './image_classification'\n",
    "n_samples = 4\n",
    "top_n_predictions = 3\n",
    "\n",
    "def test_model():\n",
    "    \"\"\"\n",
    "    Test the saved model against the test dataset\n",
    "    \"\"\"\n",
    "\n",
    "    test_features, test_labels = pickle.load(open('preprocess_test.p', mode='rb'))\n",
    "    loaded_graph = tf.Graph()\n",
    "\n",
    "    with tf.Session(graph=loaded_graph) as sess:\n",
    "        # Load model\n",
    "        loader = tf.train.import_meta_graph(save_model_path + '.meta')\n",
    "        loader.restore(sess, save_model_path)\n",
    "\n",
    "        # Get Tensors from loaded model\n",
    "        loaded_x = loaded_graph.get_tensor_by_name('x:0')\n",
    "        loaded_y = loaded_graph.get_tensor_by_name('y:0')\n",
    "        loaded_keep_prob = loaded_graph.get_tensor_by_name('keep_prob:0')\n",
    "        loaded_logits = loaded_graph.get_tensor_by_name('logits:0')\n",
    "        loaded_acc = loaded_graph.get_tensor_by_name('accuracy:0')\n",
    "        \n",
    "        # Get accuracy in batches for memory limitations\n",
    "        test_batch_acc_total = 0\n",
    "        test_batch_count = 0\n",
    "        \n",
    "        for test_feature_batch, test_label_batch in helper.batch_features_labels(test_features, test_labels, batch_size):\n",
    "            test_batch_acc_total += sess.run(\n",
    "                loaded_acc,\n",
    "                feed_dict={loaded_x: test_feature_batch, loaded_y: test_label_batch, loaded_keep_prob: 1.0})\n",
    "            test_batch_count += 1\n",
    "\n",
    "        print('Testing Accuracy: {}\\n'.format(test_batch_acc_total/test_batch_count))\n",
    "\n",
    "        # Print Random Samples\n",
    "        random_test_features, random_test_labels = tuple(zip(*random.sample(list(zip(test_features, test_labels)), n_samples)))\n",
    "        random_test_predictions = sess.run(\n",
    "            tf.nn.top_k(tf.nn.softmax(loaded_logits), top_n_predictions),\n",
    "            feed_dict={loaded_x: random_test_features, loaded_y: random_test_labels, loaded_keep_prob: 1.0})\n",
    "        helper.display_image_predictions(random_test_features, random_test_labels, random_test_predictions)\n",
    "\n",
    "\n",
    "test_model()"
   ]
  }
 ],
 "metadata": {
  "anaconda-cloud": {},
  "kernelspec": {
   "display_name": "Python 3",
   "language": "python",
   "name": "python3"
  },
  "language_info": {
   "codemirror_mode": {
    "name": "ipython",
    "version": 3
   },
   "file_extension": ".py",
   "mimetype": "text/x-python",
   "name": "python",
   "nbconvert_exporter": "python",
   "pygments_lexer": "ipython3",
   "version": "3.6.1"
  }
 },
 "nbformat": 4,
 "nbformat_minor": 0
}
